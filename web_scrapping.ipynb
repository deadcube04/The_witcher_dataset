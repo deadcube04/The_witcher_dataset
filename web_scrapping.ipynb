{
 "cells": [
  {
   "cell_type": "markdown",
   "id": "28a71827",
   "metadata": {},
   "source": [
    "# Webscrapping for mosnters\n"
   ]
  },
  {
   "cell_type": "markdown",
   "id": "028c332d",
   "metadata": {},
   "source": [
    "### config\n"
   ]
  },
  {
   "cell_type": "code",
   "execution_count": 30,
   "id": "2e589d4c",
   "metadata": {},
   "outputs": [
    {
     "name": "stdout",
     "output_type": "stream",
     "text": [
      "Requirement already satisfied: requests in ./.venv/lib/python3.10/site-packages (2.32.4)\n",
      "Requirement already satisfied: charset_normalizer<4,>=2 in ./.venv/lib/python3.10/site-packages (from requests) (3.4.2)\n",
      "Requirement already satisfied: idna<4,>=2.5 in ./.venv/lib/python3.10/site-packages (from requests) (3.10)\n",
      "Requirement already satisfied: urllib3<3,>=1.21.1 in ./.venv/lib/python3.10/site-packages (from requests) (2.4.0)\n",
      "Requirement already satisfied: certifi>=2017.4.17 in ./.venv/lib/python3.10/site-packages (from requests) (2025.4.26)\n",
      "Note: you may need to restart the kernel to use updated packages.\n",
      "Requirement already satisfied: beautifulsoup4 in ./.venv/lib/python3.10/site-packages (4.13.4)\n",
      "Requirement already satisfied: soupsieve>1.2 in ./.venv/lib/python3.10/site-packages (from beautifulsoup4) (2.7)\n",
      "Requirement already satisfied: typing-extensions>=4.0.0 in ./.venv/lib/python3.10/site-packages (from beautifulsoup4) (4.13.2)\n",
      "Note: you may need to restart the kernel to use updated packages.\n",
      "Requirement already satisfied: selenium in ./.venv/lib/python3.10/site-packages (4.33.0)\n",
      "Requirement already satisfied: urllib3~=2.4.0 in ./.venv/lib/python3.10/site-packages (from urllib3[socks]~=2.4.0->selenium) (2.4.0)\n",
      "Requirement already satisfied: trio~=0.30.0 in ./.venv/lib/python3.10/site-packages (from selenium) (0.30.0)\n",
      "Requirement already satisfied: trio-websocket~=0.12.2 in ./.venv/lib/python3.10/site-packages (from selenium) (0.12.2)\n",
      "Requirement already satisfied: certifi>=2025.4.26 in ./.venv/lib/python3.10/site-packages (from selenium) (2025.4.26)\n",
      "Requirement already satisfied: typing_extensions~=4.13.2 in ./.venv/lib/python3.10/site-packages (from selenium) (4.13.2)\n",
      "Requirement already satisfied: websocket-client~=1.8.0 in ./.venv/lib/python3.10/site-packages (from selenium) (1.8.0)\n",
      "Requirement already satisfied: attrs>=23.2.0 in ./.venv/lib/python3.10/site-packages (from trio~=0.30.0->selenium) (25.3.0)\n",
      "Requirement already satisfied: sortedcontainers in ./.venv/lib/python3.10/site-packages (from trio~=0.30.0->selenium) (2.4.0)\n",
      "Requirement already satisfied: idna in ./.venv/lib/python3.10/site-packages (from trio~=0.30.0->selenium) (3.10)\n",
      "Requirement already satisfied: outcome in ./.venv/lib/python3.10/site-packages (from trio~=0.30.0->selenium) (1.3.0.post0)\n",
      "Requirement already satisfied: sniffio>=1.3.0 in ./.venv/lib/python3.10/site-packages (from trio~=0.30.0->selenium) (1.3.1)\n",
      "Requirement already satisfied: exceptiongroup in ./.venv/lib/python3.10/site-packages (from trio~=0.30.0->selenium) (1.3.0)\n",
      "Requirement already satisfied: wsproto>=0.14 in ./.venv/lib/python3.10/site-packages (from trio-websocket~=0.12.2->selenium) (1.2.0)\n",
      "Requirement already satisfied: pysocks!=1.5.7,<2.0,>=1.5.6 in ./.venv/lib/python3.10/site-packages (from urllib3[socks]~=2.4.0->selenium) (1.7.1)\n",
      "Requirement already satisfied: h11<1,>=0.9.0 in ./.venv/lib/python3.10/site-packages (from wsproto>=0.14->trio-websocket~=0.12.2->selenium) (0.16.0)\n",
      "Note: you may need to restart the kernel to use updated packages.\n",
      "Requirement already satisfied: pandas in ./.venv/lib/python3.10/site-packages (2.3.0)\n",
      "Requirement already satisfied: numpy>=1.22.4 in ./.venv/lib/python3.10/site-packages (from pandas) (2.2.6)\n",
      "Requirement already satisfied: python-dateutil>=2.8.2 in ./.venv/lib/python3.10/site-packages (from pandas) (2.9.0.post0)\n",
      "Requirement already satisfied: pytz>=2020.1 in ./.venv/lib/python3.10/site-packages (from pandas) (2025.2)\n",
      "Requirement already satisfied: tzdata>=2022.7 in ./.venv/lib/python3.10/site-packages (from pandas) (2025.2)\n",
      "Requirement already satisfied: six>=1.5 in ./.venv/lib/python3.10/site-packages (from python-dateutil>=2.8.2->pandas) (1.17.0)\n",
      "Note: you may need to restart the kernel to use updated packages.\n"
     ]
    }
   ],
   "source": [
    "%pip install requests\n",
    "%pip install beautifulsoup4\n",
    "%pip install selenium\n",
    "%pip install pandas"
   ]
  },
  {
   "cell_type": "code",
   "execution_count": 31,
   "id": "a2e94c64",
   "metadata": {},
   "outputs": [],
   "source": [
    "from selenium import webdriver\n",
    "from selenium.webdriver.common.by import By\n",
    "from selenium.webdriver.support.ui import WebDriverWait\n",
    "from selenium.webdriver.support import expected_conditions as EC\n",
    "from bs4 import BeautifulSoup\n",
    "import pandas as pd\n",
    "import time\n",
    "import os \n",
    "from selenium.webdriver.chrome.options import Options"
   ]
  },
  {
   "cell_type": "markdown",
   "id": "7c26efb9",
   "metadata": {},
   "source": [
    "## code\n"
   ]
  },
  {
   "cell_type": "markdown",
   "id": "e2139e02",
   "metadata": {},
   "source": [
    "### start setups\n"
   ]
  },
  {
   "cell_type": "code",
   "execution_count": null,
   "id": "43603c0e",
   "metadata": {},
   "outputs": [],
   "source": [
    "class Monster:\n",
    "    def __init__(self, name, Mtype, ocurrence, weakness, loot, imagePath):\n",
    "        self.name = name\n",
    "        self.Mtype = Mtype\n",
    "        self.ocurrence = ocurrence\n",
    "        self.weakness = weakness\n",
    "        self.loot = loot\n",
    "        self.imagePath = imagePath\n",
    "    def __str__(self):\n",
    "        return f\"Name: {self.name}, Type: {self.Mtype}, Occurrence: {self.ocurrence}, Weakness: {self.weakness}, Loot: {self.loot}\"\n",
    "    \n",
    "    def to_dict(self):\n",
    "        return {\n",
    "            \"Name\": self.name,\n",
    "            \"Type\": self.Mtype,\n",
    "            \"Occurrence\": self.ocurrence,\n",
    "            \"Weakness\": self.weakness,\n",
    "            \"Loot\": self.loot\n",
    "        }"
   ]
  },
  {
   "cell_type": "code",
   "execution_count": 76,
   "id": "0ec30239",
   "metadata": {},
   "outputs": [],
   "source": [
    "def handle_search(path : str,  driver : webdriver.Chrome):\n",
    "    link_elemento_js = WebDriverWait(driver, 10).until(\n",
    "                EC.element_to_be_clickable((By.CSS_SELECTOR, path))\n",
    "            ) \n",
    "    driver.execute_script(\"arguments[0].click();\", link_elemento_js)\n",
    "    monster_element = WebDriverWait(driver, 10).until(\n",
    "            EC.presence_of_element_located((By.CSS_SELECTOR, \"#firstHeading > span\")) # Encontra o primeiro <h1>\n",
    "        )\n",
    "    monster_name = monster_element.text\n",
    "\n",
    "    driver.back()  # Volta para a página anterior\n",
    "    return monster_name"
   ]
  },
  {
   "cell_type": "code",
   "execution_count": 83,
   "id": "10eeaa1a",
   "metadata": {},
   "outputs": [],
   "source": [
    "options = Options()\n",
    "options.binary_location = '/usr/bin/brave-browser'\n",
    "driver = webdriver.Chrome(options=options)\n",
    "url = 'https://witcher.fandom.com/wiki/The_Witcher_3_bestiary'\n",
    "driver.get(url)\n",
    "time.sleep(1) "
   ]
  },
  {
   "cell_type": "markdown",
   "id": "6ca40555",
   "metadata": {},
   "source": [
    "## scrapping\n"
   ]
  },
  {
   "cell_type": "code",
   "execution_count": 84,
   "id": "c49a2983",
   "metadata": {},
   "outputs": [
    {
     "name": "stdout",
     "output_type": "stream",
     "text": [
      "Navegador fechado.\n",
      "['Bear', 'Big Bad Wolf', 'Dog', 'Panther', 'The Beast of Beauclair', 'Three Little Pigs', 'Wild boar', 'Wolf (creature)', 'Warg', 'Archespore', 'Werebear', 'Botchling', 'Lubberkin', 'The Toad Prince', 'Ulfhedinn', 'Werewolf', 'Basilisk', 'Cockatrice', 'Forktail', 'Royal wyvern', 'Shrieker', 'Silver Basilisk', 'Dracolizard', 'Slyzard Matriarch', 'The Dragon of Fyresdal', 'Wyvern', 'Djinn', 'Earth Elemental', 'Fire Elemental', 'Gargoyle', 'Golem', 'Hound of the Wild Hunt', 'Ice Elemental', \"Moreau's Golem\", 'Pixies', 'The Apiarian Phantom', 'Therazane', 'Ekhidna', 'Erynia', 'Griffin (creature)', 'Harpy', 'Melusine', 'Opinicus', 'Salma', 'Siren', 'Succubus', 'Arachas', 'Arachnomorph', 'Armored arachas', 'Endrega drone', 'Endrega warrior', 'Endrega worker', 'Giant centipede', 'Harrisi', 'Kikimore', 'Kikimore worker', 'Pale Widow', 'Sandcrab', 'Venomous arachas', 'Abaya', 'Alghoul', 'Devourer', 'Drowner', 'Drowned dead', 'Fogler', 'Ghoul', 'Grave hag', 'Ignis Fatuus', 'Mourntart', 'Mucknixer', 'Rotfiend', 'Scurver', 'Spotted wight', 'Water hag', 'Wight (creature)', 'Cloud Giant', 'Cyclops', 'Golyat', 'Hagubman', 'Ice giant', 'Ice troll', 'Nekker', 'Rock troll', 'Wham-a-Wham', 'Chort', 'Crones', 'Doppler', 'Fiend', 'Fugas', 'Godling', 'Grottore', 'Howler', 'Janne', 'Kernun', 'Leshy', 'Morvudd', 'Shaelmaar', 'Shaelmaar from the Emperor of Nilfgaard', 'Spriggan', 'Sylvan', 'The Caretaker', 'The Monster of Tufo', 'Wicked Witch', 'Woodland Spirit', 'Barghest', 'Banshee', \"Daphne's Wraith\", 'Devil by the Well', 'Ethereal', 'Hym', \"Jenny o' the Woods\", 'Longlocks', 'Nightwraith', 'Noonwraith', 'Penitent', 'Plague maiden', 'Red Miasmal', 'Umbra', 'The White Lady', 'The Wraith from the Painting', 'Wraith', 'Alpha Garkain', 'Alp', 'Bruxa', 'Dettlaff van der Eretein', 'Ekimma', 'Fleder', 'Gael', 'Garkain', 'Higher Vampire', 'Katakan', 'Protofleder', 'Sarasti', 'The Bruxa of Corvo Bianco']\n"
     ]
    }
   ],
   "source": [
    "test = []\n",
    "try:\n",
    "    for i in range(5, 27, 2):\n",
    "        ul_element = WebDriverWait(driver, 10).until(\n",
    "                EC.presence_of_element_located((By.CSS_SELECTOR, f\"#mw-content-text > div > div:nth-child({i}) > div > ul\"))\n",
    "            )\n",
    "        li_elements = ul_element.find_elements(By.TAG_NAME, \"li\")\n",
    "        num_lis = len(li_elements)\n",
    "        for j in range(1, num_lis + 1):\n",
    "            path = f\"#mw-content-text > div > div:nth-child({i}) > div > ul > li:nth-child({j}) > a\"\n",
    "            test.append(handle_search(path, driver))\n",
    "except Exception as e:\n",
    "    print(f\"Um erro ocorreu: {e}\")\n",
    "finally:\n",
    "    if 'driver' in locals() and driver: # Garante que 'driver' existe e não é None\n",
    "        driver.quit()\n",
    "        print(\"Navegador fechado.\")\n",
    "\n",
    "print(test)"
   ]
  },
  {
   "cell_type": "code",
   "execution_count": 85,
   "id": "7f0b9d31",
   "metadata": {},
   "outputs": [
    {
     "name": "stdout",
     "output_type": "stream",
     "text": [
      "Total de monstros encontrados: 134\n"
     ]
    }
   ],
   "source": [
    "print(\"Total de monstros encontrados:\", len(test))"
   ]
  }
 ],
 "metadata": {
  "kernelspec": {
   "display_name": ".venv",
   "language": "python",
   "name": "python3"
  },
  "language_info": {
   "codemirror_mode": {
    "name": "ipython",
    "version": 3
   },
   "file_extension": ".py",
   "mimetype": "text/x-python",
   "name": "python",
   "nbconvert_exporter": "python",
   "pygments_lexer": "ipython3",
   "version": "3.10.12"
  }
 },
 "nbformat": 4,
 "nbformat_minor": 5
}
